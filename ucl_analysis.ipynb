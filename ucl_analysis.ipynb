{
 "cells": [
  {
   "cell_type": "code",
   "execution_count": 48,
   "id": "eda1fe62",
   "metadata": {},
   "outputs": [
    {
     "name": "stdout",
     "output_type": "stream",
     "text": [
      "     player_name         club    position  minutes_played  match_played  \\\n",
      "2        Benzema  Real Madrid     Forward            1106            12   \n",
      "66   Lewandowski       Bayern     Forward             876            10   \n",
      "102       Haller         Ajax     Forward             668             8   \n",
      "26         Salah    Liverpool     Forward            1008            13   \n",
      "184       Nkunku      Leipzig  Midfielder             531             6   \n",
      "\n",
      "     goals  assists distance_covered  \n",
      "2       15        1            121.5  \n",
      "66      13        3             99.7  \n",
      "102     11        1             82.2  \n",
      "26       8        2            112.0  \n",
      "184      7        0             62.8  \n"
     ]
    }
   ],
   "source": [
    "import pandas as pd\n",
    "\n",
    "df = pd.read_csv('key_stats.csv')\n",
    "df = df.sort_values(by=[\"goals\"], ascending=[False])\n",
    "print(df.head())"
   ]
  },
  {
   "cell_type": "markdown",
   "id": "725f61e2",
   "metadata": {},
   "source": [
    "### Display the top 5 goals scorers and plot on a graph"
   ]
  },
  {
   "cell_type": "code",
   "execution_count": 49,
   "id": "c392af58",
   "metadata": {},
   "outputs": [],
   "source": [
    "name = df['player_name'][0:5]\n",
    "\n",
    "goals = df['goals'][0:5]\n",
    "\n",
    "\n",
    "\n"
   ]
  },
  {
   "cell_type": "code",
   "execution_count": null,
   "id": "4b12eb57",
   "metadata": {},
   "outputs": [],
   "source": []
  },
  {
   "cell_type": "code",
   "execution_count": 50,
   "id": "9141309a",
   "metadata": {},
   "outputs": [
    {
     "data": {
      "image/png": "[encoded data removed]",
      "text/plain": [
       "<Figure size 432x288 with 1 Axes>"
      ]
     },
     "metadata": {
      "needs_background": "light"
     },
     "output_type": "display_data"
    }
   ],
   "source": [
    "from matplotlib import pyplot as plt\n",
    "\n",
    "plt.bar(name,goals)\n",
    "plt.xlabel = ('Player name')\n",
    "plt.ylabel = ('Goals')\n",
    "\n",
    "plt.show()"
   ]
  },
  {
   "cell_type": "markdown",
   "id": "1c8353e5",
   "metadata": {},
   "source": [
    "### Display the top 5 assists and plot on a graph"
   ]
  },
  {
   "cell_type": "code",
   "execution_count": 51,
   "id": "926167e0",
   "metadata": {},
   "outputs": [],
   "source": [
    "df = df.sort_values(by=[\"assists\"], ascending=[False])\n",
    "name = df['player_name'][0:5]\n",
    "\n",
    "assists = df['assists'][0:5]\n",
    "\n"
   ]
  },
  {
   "cell_type": "code",
   "execution_count": 52,
   "id": "cd382e6f",
   "metadata": {},
   "outputs": [
    {
     "data": {
      "image/png": "[encoded data removed]",
      "text/plain": [
       "<Figure size 432x288 with 1 Axes>"
      ]
     },
     "metadata": {
      "needs_background": "light"
     },
     "output_type": "display_data"
    }
   ],
   "source": [
    "plt.bar(name,assists)\n",
    "plt.xlabel = ('Player name')\n",
    "plt.ylabel = ('Assists')\n",
    "\n",
    "plt.show()"
   ]
  },
  {
   "cell_type": "code",
   "execution_count": null,
   "id": "ab467ea8",
   "metadata": {},
   "outputs": [],
   "source": []
  },
  {
   "cell_type": "markdown",
   "id": "1ea00463",
   "metadata": {},
   "source": [
    "### Display the players with the most combined goals and assists and plot on a graph"
   ]
  },
  {
   "cell_type": "code",
   "execution_count": 80,
   "id": "531acdde",
   "metadata": {
    "scrolled": true
   },
   "outputs": [
    {
     "data": {
      "image/png": "[encoded data removed]",
      "text/plain": [
       "<Figure size 432x288 with 1 Axes>"
      ]
     },
     "metadata": {
      "needs_background": "light"
     },
     "output_type": "display_data"
    }
   ],
   "source": [
    "df = df.sort_values([\"goals\",'assists'], ascending=[0,0])\n",
    "df['goals_and_assists'] = df['goals'] + df['assists']\n",
    "\n",
    "name = df['player_name'][0:7]\n",
    "\n",
    "goals_and_assists = df['goals_and_assists'][0:7]\n",
    "\n",
    "\n",
    "plt.barh(name,goals_and_assists, color='goldenrod')\n",
    "plt.xlabel = ('Player name')\n",
    "plt.ylabel = ('Goals and assists')\n",
    "\n",
    "plt.show()"
   ]
  },
  {
   "cell_type": "code",
   "execution_count": 81,
   "id": "3dcda0a1",
   "metadata": {},
   "outputs": [
    {
     "data": {
      "text/html": [
       "<div>\n",
       "<style scoped>\n",
       "    .dataframe tbody tr th:only-of-type {\n",
       "        vertical-align: middle;\n",
       "    }\n",
       "\n",
       "    .dataframe tbody tr th {\n",
       "        vertical-align: top;\n",
       "    }\n",
       "\n",
       "    .dataframe thead th {\n",
       "        text-align: right;\n",
       "    }\n",
       "</style>\n",
       "<table border=\"1\" class=\"dataframe\">\n",
       "  <thead>\n",
       "    <tr style=\"text-align: right;\">\n",
       "      <th></th>\n",
       "      <th>player_name</th>\n",
       "      <th>club</th>\n",
       "      <th>position</th>\n",
       "      <th>minutes_played</th>\n",
       "      <th>match_played</th>\n",
       "      <th>goals</th>\n",
       "      <th>assists</th>\n",
       "      <th>distance_covered</th>\n",
       "      <th>goals_and_assists</th>\n",
       "    </tr>\n",
       "  </thead>\n",
       "  <tbody>\n",
       "    <tr>\n",
       "      <th>2</th>\n",
       "      <td>Benzema</td>\n",
       "      <td>Real Madrid</td>\n",
       "      <td>Forward</td>\n",
       "      <td>1106</td>\n",
       "      <td>12</td>\n",
       "      <td>15</td>\n",
       "      <td>1</td>\n",
       "      <td>121.5</td>\n",
       "      <td>16</td>\n",
       "    </tr>\n",
       "    <tr>\n",
       "      <th>66</th>\n",
       "      <td>Lewandowski</td>\n",
       "      <td>Bayern</td>\n",
       "      <td>Forward</td>\n",
       "      <td>876</td>\n",
       "      <td>10</td>\n",
       "      <td>13</td>\n",
       "      <td>3</td>\n",
       "      <td>99.7</td>\n",
       "      <td>16</td>\n",
       "    </tr>\n",
       "    <tr>\n",
       "      <th>102</th>\n",
       "      <td>Haller</td>\n",
       "      <td>Ajax</td>\n",
       "      <td>Forward</td>\n",
       "      <td>668</td>\n",
       "      <td>8</td>\n",
       "      <td>11</td>\n",
       "      <td>1</td>\n",
       "      <td>82.2</td>\n",
       "      <td>12</td>\n",
       "    </tr>\n",
       "    <tr>\n",
       "      <th>26</th>\n",
       "      <td>Salah</td>\n",
       "      <td>Liverpool</td>\n",
       "      <td>Forward</td>\n",
       "      <td>1008</td>\n",
       "      <td>13</td>\n",
       "      <td>8</td>\n",
       "      <td>2</td>\n",
       "      <td>112.0</td>\n",
       "      <td>10</td>\n",
       "    </tr>\n",
       "    <tr>\n",
       "      <th>59</th>\n",
       "      <td>Mahrez</td>\n",
       "      <td>Man. City</td>\n",
       "      <td>Midfielder</td>\n",
       "      <td>986</td>\n",
       "      <td>12</td>\n",
       "      <td>7</td>\n",
       "      <td>2</td>\n",
       "      <td>120.1</td>\n",
       "      <td>9</td>\n",
       "    </tr>\n",
       "  </tbody>\n",
       "</table>\n",
       "</div>"
      ],
      "text/plain": [
       "     player_name         club    position  minutes_played  match_played  \\\n",
       "2        Benzema  Real Madrid     Forward            1106            12   \n",
       "66   Lewandowski       Bayern     Forward             876            10   \n",
       "102       Haller         Ajax     Forward             668             8   \n",
       "26         Salah    Liverpool     Forward            1008            13   \n",
       "59        Mahrez    Man. City  Midfielder             986            12   \n",
       "\n",
       "     goals  assists distance_covered  goals_and_assists  \n",
       "2       15        1            121.5                 16  \n",
       "66      13        3             99.7                 16  \n",
       "102     11        1             82.2                 12  \n",
       "26       8        2            112.0                 10  \n",
       "59       7        2            120.1                  9  "
      ]
     },
     "execution_count": 81,
     "metadata": {},
     "output_type": "execute_result"
    }
   ],
   "source": [
    "df.head()"
   ]
  },
  {
   "cell_type": "code",
   "execution_count": 114,
   "id": "f835af1c",
   "metadata": {},
   "outputs": [
    {
     "data": {
      "image/png": "[encoded data removed]",
      "text/plain": [
       "<Figure size 432x288 with 1 Axes>"
      ]
     },
     "metadata": {
      "needs_background": "light"
     },
     "output_type": "display_data"
    }
   ],
   "source": [
    "df['goals_per_match'] = (df['match_played']/df['goals'])\n",
    "\n",
    "name = df['player_name'][0:10]\n",
    "\n",
    "goals_per_match = df['goals_per_match'][0:10]\n",
    "\n",
    "plt.barh(name, goals_per_match)\n",
    "plt.show()\n",
    "\n"
   ]
  },
  {
   "cell_type": "code",
   "execution_count": null,
   "id": "3c7d58fa",
   "metadata": {},
   "outputs": [],
   "source": []
  },
  {
   "cell_type": "code",
   "execution_count": null,
   "id": "b97c3b82",
   "metadata": {},
   "outputs": [],
   "source": []
  }
 ],
 "metadata": {
  "kernelspec": {
   "display_name": "Python 3 (ipykernel)",
   "language": "python",
   "name": "python3"
  },
  "language_info": {
   "codemirror_mode": {
    "name": "ipython",
    "version": 3
   },
   "file_extension": ".py",
   "mimetype": "text/x-python",
   "name": "python",
   "nbconvert_exporter": "python",
   "pygments_lexer": "ipython3",
   "version": "3.9.12"
  }
 },
 "nbformat": 4,
 "nbformat_minor": 5
}
